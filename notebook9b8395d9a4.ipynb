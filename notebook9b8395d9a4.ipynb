{
 "cells": [
  {
   "cell_type": "code",
   "execution_count": 1,
   "id": "c75b436e",
   "metadata": {
    "_cell_guid": "b1076dfc-b9ad-4769-8c92-a6c4dae69d19",
    "_uuid": "8f2839f25d086af736a60e9eeb907d3b93b6e0e5",
    "execution": {
     "iopub.execute_input": "2024-05-31T16:14:23.339416Z",
     "iopub.status.busy": "2024-05-31T16:14:23.338829Z",
     "iopub.status.idle": "2024-05-31T16:14:26.130749Z",
     "shell.execute_reply": "2024-05-31T16:14:26.129426Z"
    },
    "papermill": {
     "duration": 2.807529,
     "end_time": "2024-05-31T16:14:26.133483",
     "exception": false,
     "start_time": "2024-05-31T16:14:23.325954",
     "status": "completed"
    },
    "tags": []
   },
   "outputs": [],
   "source": [
    "import numpy as np\n",
    "import matplotlib.pyplot as plt\n",
    "import pandas as pd\n",
    "import numpy as np\n",
    "from sklearn import preprocessing\n",
    "%matplotlib inline"
   ]
  },
  {
   "cell_type": "code",
   "execution_count": 2,
   "id": "eb95ec30",
   "metadata": {
    "execution": {
     "iopub.execute_input": "2024-05-31T16:14:26.156973Z",
     "iopub.status.busy": "2024-05-31T16:14:26.156405Z",
     "iopub.status.idle": "2024-05-31T16:14:26.222998Z",
     "shell.execute_reply": "2024-05-31T16:14:26.221438Z"
    },
    "papermill": {
     "duration": 0.081558,
     "end_time": "2024-05-31T16:14:26.226385",
     "exception": false,
     "start_time": "2024-05-31T16:14:26.144827",
     "status": "completed"
    },
    "tags": []
   },
   "outputs": [
    {
     "data": {
      "text/html": [
       "<div>\n",
       "<style scoped>\n",
       "    .dataframe tbody tr th:only-of-type {\n",
       "        vertical-align: middle;\n",
       "    }\n",
       "\n",
       "    .dataframe tbody tr th {\n",
       "        vertical-align: top;\n",
       "    }\n",
       "\n",
       "    .dataframe thead th {\n",
       "        text-align: right;\n",
       "    }\n",
       "</style>\n",
       "<table border=\"1\" class=\"dataframe\">\n",
       "  <thead>\n",
       "    <tr style=\"text-align: right;\">\n",
       "      <th></th>\n",
       "      <th>PassengerId</th>\n",
       "      <th>Survived</th>\n",
       "      <th>Pclass</th>\n",
       "      <th>Name</th>\n",
       "      <th>Sex</th>\n",
       "      <th>Age</th>\n",
       "      <th>SibSp</th>\n",
       "      <th>Parch</th>\n",
       "      <th>Ticket</th>\n",
       "      <th>Fare</th>\n",
       "      <th>Cabin</th>\n",
       "      <th>Embarked</th>\n",
       "    </tr>\n",
       "  </thead>\n",
       "  <tbody>\n",
       "    <tr>\n",
       "      <th>0</th>\n",
       "      <td>1</td>\n",
       "      <td>0</td>\n",
       "      <td>3</td>\n",
       "      <td>Braund, Mr. Owen Harris</td>\n",
       "      <td>male</td>\n",
       "      <td>22.0</td>\n",
       "      <td>1</td>\n",
       "      <td>0</td>\n",
       "      <td>A/5 21171</td>\n",
       "      <td>7.2500</td>\n",
       "      <td>NaN</td>\n",
       "      <td>S</td>\n",
       "    </tr>\n",
       "    <tr>\n",
       "      <th>1</th>\n",
       "      <td>2</td>\n",
       "      <td>1</td>\n",
       "      <td>1</td>\n",
       "      <td>Cumings, Mrs. John Bradley (Florence Briggs Th...</td>\n",
       "      <td>female</td>\n",
       "      <td>38.0</td>\n",
       "      <td>1</td>\n",
       "      <td>0</td>\n",
       "      <td>PC 17599</td>\n",
       "      <td>71.2833</td>\n",
       "      <td>C85</td>\n",
       "      <td>C</td>\n",
       "    </tr>\n",
       "    <tr>\n",
       "      <th>2</th>\n",
       "      <td>3</td>\n",
       "      <td>1</td>\n",
       "      <td>3</td>\n",
       "      <td>Heikkinen, Miss. Laina</td>\n",
       "      <td>female</td>\n",
       "      <td>26.0</td>\n",
       "      <td>0</td>\n",
       "      <td>0</td>\n",
       "      <td>STON/O2. 3101282</td>\n",
       "      <td>7.9250</td>\n",
       "      <td>NaN</td>\n",
       "      <td>S</td>\n",
       "    </tr>\n",
       "    <tr>\n",
       "      <th>3</th>\n",
       "      <td>4</td>\n",
       "      <td>1</td>\n",
       "      <td>1</td>\n",
       "      <td>Futrelle, Mrs. Jacques Heath (Lily May Peel)</td>\n",
       "      <td>female</td>\n",
       "      <td>35.0</td>\n",
       "      <td>1</td>\n",
       "      <td>0</td>\n",
       "      <td>113803</td>\n",
       "      <td>53.1000</td>\n",
       "      <td>C123</td>\n",
       "      <td>S</td>\n",
       "    </tr>\n",
       "    <tr>\n",
       "      <th>4</th>\n",
       "      <td>5</td>\n",
       "      <td>0</td>\n",
       "      <td>3</td>\n",
       "      <td>Allen, Mr. William Henry</td>\n",
       "      <td>male</td>\n",
       "      <td>35.0</td>\n",
       "      <td>0</td>\n",
       "      <td>0</td>\n",
       "      <td>373450</td>\n",
       "      <td>8.0500</td>\n",
       "      <td>NaN</td>\n",
       "      <td>S</td>\n",
       "    </tr>\n",
       "  </tbody>\n",
       "</table>\n",
       "</div>"
      ],
      "text/plain": [
       "   PassengerId  Survived  Pclass  \\\n",
       "0            1         0       3   \n",
       "1            2         1       1   \n",
       "2            3         1       3   \n",
       "3            4         1       1   \n",
       "4            5         0       3   \n",
       "\n",
       "                                                Name     Sex   Age  SibSp  \\\n",
       "0                            Braund, Mr. Owen Harris    male  22.0      1   \n",
       "1  Cumings, Mrs. John Bradley (Florence Briggs Th...  female  38.0      1   \n",
       "2                             Heikkinen, Miss. Laina  female  26.0      0   \n",
       "3       Futrelle, Mrs. Jacques Heath (Lily May Peel)  female  35.0      1   \n",
       "4                           Allen, Mr. William Henry    male  35.0      0   \n",
       "\n",
       "   Parch            Ticket     Fare Cabin Embarked  \n",
       "0      0         A/5 21171   7.2500   NaN        S  \n",
       "1      0          PC 17599  71.2833   C85        C  \n",
       "2      0  STON/O2. 3101282   7.9250   NaN        S  \n",
       "3      0            113803  53.1000  C123        S  \n",
       "4      0            373450   8.0500   NaN        S  "
      ]
     },
     "execution_count": 2,
     "metadata": {},
     "output_type": "execute_result"
    }
   ],
   "source": [
    "df = pd.read_csv('/kaggle/input/titanic/train.csv')\n",
    "cdf= pd.read_csv('/kaggle/input/titanic/test.csv')\n",
    "df.head()"
   ]
  },
  {
   "cell_type": "code",
   "execution_count": 3,
   "id": "9a748169",
   "metadata": {
    "execution": {
     "iopub.execute_input": "2024-05-31T16:14:26.250705Z",
     "iopub.status.busy": "2024-05-31T16:14:26.250000Z",
     "iopub.status.idle": "2024-05-31T16:14:26.269871Z",
     "shell.execute_reply": "2024-05-31T16:14:26.268271Z"
    },
    "papermill": {
     "duration": 0.037207,
     "end_time": "2024-05-31T16:14:26.273394",
     "exception": false,
     "start_time": "2024-05-31T16:14:26.236187",
     "status": "completed"
    },
    "tags": []
   },
   "outputs": [
    {
     "data": {
      "text/html": [
       "<div>\n",
       "<style scoped>\n",
       "    .dataframe tbody tr th:only-of-type {\n",
       "        vertical-align: middle;\n",
       "    }\n",
       "\n",
       "    .dataframe tbody tr th {\n",
       "        vertical-align: top;\n",
       "    }\n",
       "\n",
       "    .dataframe thead th {\n",
       "        text-align: right;\n",
       "    }\n",
       "</style>\n",
       "<table border=\"1\" class=\"dataframe\">\n",
       "  <thead>\n",
       "    <tr style=\"text-align: right;\">\n",
       "      <th></th>\n",
       "      <th>PassengerId</th>\n",
       "      <th>Pclass</th>\n",
       "      <th>Name</th>\n",
       "      <th>Sex</th>\n",
       "      <th>Age</th>\n",
       "      <th>SibSp</th>\n",
       "      <th>Parch</th>\n",
       "      <th>Ticket</th>\n",
       "      <th>Fare</th>\n",
       "      <th>Cabin</th>\n",
       "      <th>Embarked</th>\n",
       "    </tr>\n",
       "  </thead>\n",
       "  <tbody>\n",
       "    <tr>\n",
       "      <th>0</th>\n",
       "      <td>892</td>\n",
       "      <td>3</td>\n",
       "      <td>Kelly, Mr. James</td>\n",
       "      <td>male</td>\n",
       "      <td>34.5</td>\n",
       "      <td>0</td>\n",
       "      <td>0</td>\n",
       "      <td>330911</td>\n",
       "      <td>7.8292</td>\n",
       "      <td>NaN</td>\n",
       "      <td>Q</td>\n",
       "    </tr>\n",
       "    <tr>\n",
       "      <th>1</th>\n",
       "      <td>893</td>\n",
       "      <td>3</td>\n",
       "      <td>Wilkes, Mrs. James (Ellen Needs)</td>\n",
       "      <td>female</td>\n",
       "      <td>47.0</td>\n",
       "      <td>1</td>\n",
       "      <td>0</td>\n",
       "      <td>363272</td>\n",
       "      <td>7.0000</td>\n",
       "      <td>NaN</td>\n",
       "      <td>S</td>\n",
       "    </tr>\n",
       "    <tr>\n",
       "      <th>2</th>\n",
       "      <td>894</td>\n",
       "      <td>2</td>\n",
       "      <td>Myles, Mr. Thomas Francis</td>\n",
       "      <td>male</td>\n",
       "      <td>62.0</td>\n",
       "      <td>0</td>\n",
       "      <td>0</td>\n",
       "      <td>240276</td>\n",
       "      <td>9.6875</td>\n",
       "      <td>NaN</td>\n",
       "      <td>Q</td>\n",
       "    </tr>\n",
       "    <tr>\n",
       "      <th>3</th>\n",
       "      <td>895</td>\n",
       "      <td>3</td>\n",
       "      <td>Wirz, Mr. Albert</td>\n",
       "      <td>male</td>\n",
       "      <td>27.0</td>\n",
       "      <td>0</td>\n",
       "      <td>0</td>\n",
       "      <td>315154</td>\n",
       "      <td>8.6625</td>\n",
       "      <td>NaN</td>\n",
       "      <td>S</td>\n",
       "    </tr>\n",
       "    <tr>\n",
       "      <th>4</th>\n",
       "      <td>896</td>\n",
       "      <td>3</td>\n",
       "      <td>Hirvonen, Mrs. Alexander (Helga E Lindqvist)</td>\n",
       "      <td>female</td>\n",
       "      <td>22.0</td>\n",
       "      <td>1</td>\n",
       "      <td>1</td>\n",
       "      <td>3101298</td>\n",
       "      <td>12.2875</td>\n",
       "      <td>NaN</td>\n",
       "      <td>S</td>\n",
       "    </tr>\n",
       "  </tbody>\n",
       "</table>\n",
       "</div>"
      ],
      "text/plain": [
       "   PassengerId  Pclass                                          Name     Sex  \\\n",
       "0          892       3                              Kelly, Mr. James    male   \n",
       "1          893       3              Wilkes, Mrs. James (Ellen Needs)  female   \n",
       "2          894       2                     Myles, Mr. Thomas Francis    male   \n",
       "3          895       3                              Wirz, Mr. Albert    male   \n",
       "4          896       3  Hirvonen, Mrs. Alexander (Helga E Lindqvist)  female   \n",
       "\n",
       "    Age  SibSp  Parch   Ticket     Fare Cabin Embarked  \n",
       "0  34.5      0      0   330911   7.8292   NaN        Q  \n",
       "1  47.0      1      0   363272   7.0000   NaN        S  \n",
       "2  62.0      0      0   240276   9.6875   NaN        Q  \n",
       "3  27.0      0      0   315154   8.6625   NaN        S  \n",
       "4  22.0      1      1  3101298  12.2875   NaN        S  "
      ]
     },
     "execution_count": 3,
     "metadata": {},
     "output_type": "execute_result"
    }
   ],
   "source": [
    "cdf.head()"
   ]
  },
  {
   "cell_type": "code",
   "execution_count": 4,
   "id": "82709125",
   "metadata": {
    "execution": {
     "iopub.execute_input": "2024-05-31T16:14:26.296730Z",
     "iopub.status.busy": "2024-05-31T16:14:26.296287Z",
     "iopub.status.idle": "2024-05-31T16:14:26.315434Z",
     "shell.execute_reply": "2024-05-31T16:14:26.313860Z"
    },
    "papermill": {
     "duration": 0.035402,
     "end_time": "2024-05-31T16:14:26.318926",
     "exception": false,
     "start_time": "2024-05-31T16:14:26.283524",
     "status": "completed"
    },
    "tags": []
   },
   "outputs": [],
   "source": [
    "train=df[['PassengerId', 'Survived','Pclass', 'Sex', 'Age','SibSp','Parch']]\n",
    "test=cdf[['PassengerId','Pclass', 'Sex','Age', 'SibSp','Parch']]"
   ]
  },
  {
   "cell_type": "code",
   "execution_count": 5,
   "id": "40e22f41",
   "metadata": {
    "execution": {
     "iopub.execute_input": "2024-05-31T16:14:26.343673Z",
     "iopub.status.busy": "2024-05-31T16:14:26.342845Z",
     "iopub.status.idle": "2024-05-31T16:14:26.366551Z",
     "shell.execute_reply": "2024-05-31T16:14:26.365352Z"
    },
    "papermill": {
     "duration": 0.039378,
     "end_time": "2024-05-31T16:14:26.369150",
     "exception": false,
     "start_time": "2024-05-31T16:14:26.329772",
     "status": "completed"
    },
    "tags": []
   },
   "outputs": [
    {
     "name": "stderr",
     "output_type": "stream",
     "text": [
      "/tmp/ipykernel_18/2226700247.py:1: SettingWithCopyWarning: \n",
      "A value is trying to be set on a copy of a slice from a DataFrame.\n",
      "Try using .loc[row_indexer,col_indexer] = value instead\n",
      "\n",
      "See the caveats in the documentation: https://pandas.pydata.org/pandas-docs/stable/user_guide/indexing.html#returning-a-view-versus-a-copy\n",
      "  train['Sex'] = train['Sex'].map({'male': 1, 'female': 0})\n"
     ]
    },
    {
     "data": {
      "text/html": [
       "<div>\n",
       "<style scoped>\n",
       "    .dataframe tbody tr th:only-of-type {\n",
       "        vertical-align: middle;\n",
       "    }\n",
       "\n",
       "    .dataframe tbody tr th {\n",
       "        vertical-align: top;\n",
       "    }\n",
       "\n",
       "    .dataframe thead th {\n",
       "        text-align: right;\n",
       "    }\n",
       "</style>\n",
       "<table border=\"1\" class=\"dataframe\">\n",
       "  <thead>\n",
       "    <tr style=\"text-align: right;\">\n",
       "      <th></th>\n",
       "      <th>PassengerId</th>\n",
       "      <th>Survived</th>\n",
       "      <th>Pclass</th>\n",
       "      <th>Sex</th>\n",
       "      <th>Age</th>\n",
       "      <th>SibSp</th>\n",
       "      <th>Parch</th>\n",
       "    </tr>\n",
       "  </thead>\n",
       "  <tbody>\n",
       "    <tr>\n",
       "      <th>0</th>\n",
       "      <td>1</td>\n",
       "      <td>0</td>\n",
       "      <td>3</td>\n",
       "      <td>1</td>\n",
       "      <td>22.0</td>\n",
       "      <td>1</td>\n",
       "      <td>0</td>\n",
       "    </tr>\n",
       "    <tr>\n",
       "      <th>1</th>\n",
       "      <td>2</td>\n",
       "      <td>1</td>\n",
       "      <td>1</td>\n",
       "      <td>0</td>\n",
       "      <td>38.0</td>\n",
       "      <td>1</td>\n",
       "      <td>0</td>\n",
       "    </tr>\n",
       "    <tr>\n",
       "      <th>2</th>\n",
       "      <td>3</td>\n",
       "      <td>1</td>\n",
       "      <td>3</td>\n",
       "      <td>0</td>\n",
       "      <td>26.0</td>\n",
       "      <td>0</td>\n",
       "      <td>0</td>\n",
       "    </tr>\n",
       "    <tr>\n",
       "      <th>3</th>\n",
       "      <td>4</td>\n",
       "      <td>1</td>\n",
       "      <td>1</td>\n",
       "      <td>0</td>\n",
       "      <td>35.0</td>\n",
       "      <td>1</td>\n",
       "      <td>0</td>\n",
       "    </tr>\n",
       "    <tr>\n",
       "      <th>4</th>\n",
       "      <td>5</td>\n",
       "      <td>0</td>\n",
       "      <td>3</td>\n",
       "      <td>1</td>\n",
       "      <td>35.0</td>\n",
       "      <td>0</td>\n",
       "      <td>0</td>\n",
       "    </tr>\n",
       "    <tr>\n",
       "      <th>...</th>\n",
       "      <td>...</td>\n",
       "      <td>...</td>\n",
       "      <td>...</td>\n",
       "      <td>...</td>\n",
       "      <td>...</td>\n",
       "      <td>...</td>\n",
       "      <td>...</td>\n",
       "    </tr>\n",
       "    <tr>\n",
       "      <th>886</th>\n",
       "      <td>887</td>\n",
       "      <td>0</td>\n",
       "      <td>2</td>\n",
       "      <td>1</td>\n",
       "      <td>27.0</td>\n",
       "      <td>0</td>\n",
       "      <td>0</td>\n",
       "    </tr>\n",
       "    <tr>\n",
       "      <th>887</th>\n",
       "      <td>888</td>\n",
       "      <td>1</td>\n",
       "      <td>1</td>\n",
       "      <td>0</td>\n",
       "      <td>19.0</td>\n",
       "      <td>0</td>\n",
       "      <td>0</td>\n",
       "    </tr>\n",
       "    <tr>\n",
       "      <th>888</th>\n",
       "      <td>889</td>\n",
       "      <td>0</td>\n",
       "      <td>3</td>\n",
       "      <td>0</td>\n",
       "      <td>NaN</td>\n",
       "      <td>1</td>\n",
       "      <td>2</td>\n",
       "    </tr>\n",
       "    <tr>\n",
       "      <th>889</th>\n",
       "      <td>890</td>\n",
       "      <td>1</td>\n",
       "      <td>1</td>\n",
       "      <td>1</td>\n",
       "      <td>26.0</td>\n",
       "      <td>0</td>\n",
       "      <td>0</td>\n",
       "    </tr>\n",
       "    <tr>\n",
       "      <th>890</th>\n",
       "      <td>891</td>\n",
       "      <td>0</td>\n",
       "      <td>3</td>\n",
       "      <td>1</td>\n",
       "      <td>32.0</td>\n",
       "      <td>0</td>\n",
       "      <td>0</td>\n",
       "    </tr>\n",
       "  </tbody>\n",
       "</table>\n",
       "<p>891 rows × 7 columns</p>\n",
       "</div>"
      ],
      "text/plain": [
       "     PassengerId  Survived  Pclass  Sex   Age  SibSp  Parch\n",
       "0              1         0       3    1  22.0      1      0\n",
       "1              2         1       1    0  38.0      1      0\n",
       "2              3         1       3    0  26.0      0      0\n",
       "3              4         1       1    0  35.0      1      0\n",
       "4              5         0       3    1  35.0      0      0\n",
       "..           ...       ...     ...  ...   ...    ...    ...\n",
       "886          887         0       2    1  27.0      0      0\n",
       "887          888         1       1    0  19.0      0      0\n",
       "888          889         0       3    0   NaN      1      2\n",
       "889          890         1       1    1  26.0      0      0\n",
       "890          891         0       3    1  32.0      0      0\n",
       "\n",
       "[891 rows x 7 columns]"
      ]
     },
     "execution_count": 5,
     "metadata": {},
     "output_type": "execute_result"
    }
   ],
   "source": [
    "train['Sex'] = train['Sex'].map({'male': 1, 'female': 0})\n",
    "train"
   ]
  },
  {
   "cell_type": "code",
   "execution_count": 6,
   "id": "0504a0e5",
   "metadata": {
    "execution": {
     "iopub.execute_input": "2024-05-31T16:14:26.392599Z",
     "iopub.status.busy": "2024-05-31T16:14:26.392110Z",
     "iopub.status.idle": "2024-05-31T16:14:26.411125Z",
     "shell.execute_reply": "2024-05-31T16:14:26.409628Z"
    },
    "papermill": {
     "duration": 0.034561,
     "end_time": "2024-05-31T16:14:26.414645",
     "exception": false,
     "start_time": "2024-05-31T16:14:26.380084",
     "status": "completed"
    },
    "tags": []
   },
   "outputs": [
    {
     "name": "stderr",
     "output_type": "stream",
     "text": [
      "/tmp/ipykernel_18/3086422552.py:1: SettingWithCopyWarning: \n",
      "A value is trying to be set on a copy of a slice from a DataFrame.\n",
      "Try using .loc[row_indexer,col_indexer] = value instead\n",
      "\n",
      "See the caveats in the documentation: https://pandas.pydata.org/pandas-docs/stable/user_guide/indexing.html#returning-a-view-versus-a-copy\n",
      "  test['Sex'] = test['Sex'].map({'male': 1, 'female': 0})\n"
     ]
    },
    {
     "data": {
      "text/html": [
       "<div>\n",
       "<style scoped>\n",
       "    .dataframe tbody tr th:only-of-type {\n",
       "        vertical-align: middle;\n",
       "    }\n",
       "\n",
       "    .dataframe tbody tr th {\n",
       "        vertical-align: top;\n",
       "    }\n",
       "\n",
       "    .dataframe thead th {\n",
       "        text-align: right;\n",
       "    }\n",
       "</style>\n",
       "<table border=\"1\" class=\"dataframe\">\n",
       "  <thead>\n",
       "    <tr style=\"text-align: right;\">\n",
       "      <th></th>\n",
       "      <th>PassengerId</th>\n",
       "      <th>Pclass</th>\n",
       "      <th>Sex</th>\n",
       "      <th>Age</th>\n",
       "      <th>SibSp</th>\n",
       "      <th>Parch</th>\n",
       "    </tr>\n",
       "  </thead>\n",
       "  <tbody>\n",
       "    <tr>\n",
       "      <th>0</th>\n",
       "      <td>892</td>\n",
       "      <td>3</td>\n",
       "      <td>1</td>\n",
       "      <td>34.5</td>\n",
       "      <td>0</td>\n",
       "      <td>0</td>\n",
       "    </tr>\n",
       "    <tr>\n",
       "      <th>1</th>\n",
       "      <td>893</td>\n",
       "      <td>3</td>\n",
       "      <td>0</td>\n",
       "      <td>47.0</td>\n",
       "      <td>1</td>\n",
       "      <td>0</td>\n",
       "    </tr>\n",
       "    <tr>\n",
       "      <th>2</th>\n",
       "      <td>894</td>\n",
       "      <td>2</td>\n",
       "      <td>1</td>\n",
       "      <td>62.0</td>\n",
       "      <td>0</td>\n",
       "      <td>0</td>\n",
       "    </tr>\n",
       "    <tr>\n",
       "      <th>3</th>\n",
       "      <td>895</td>\n",
       "      <td>3</td>\n",
       "      <td>1</td>\n",
       "      <td>27.0</td>\n",
       "      <td>0</td>\n",
       "      <td>0</td>\n",
       "    </tr>\n",
       "    <tr>\n",
       "      <th>4</th>\n",
       "      <td>896</td>\n",
       "      <td>3</td>\n",
       "      <td>0</td>\n",
       "      <td>22.0</td>\n",
       "      <td>1</td>\n",
       "      <td>1</td>\n",
       "    </tr>\n",
       "    <tr>\n",
       "      <th>...</th>\n",
       "      <td>...</td>\n",
       "      <td>...</td>\n",
       "      <td>...</td>\n",
       "      <td>...</td>\n",
       "      <td>...</td>\n",
       "      <td>...</td>\n",
       "    </tr>\n",
       "    <tr>\n",
       "      <th>413</th>\n",
       "      <td>1305</td>\n",
       "      <td>3</td>\n",
       "      <td>1</td>\n",
       "      <td>NaN</td>\n",
       "      <td>0</td>\n",
       "      <td>0</td>\n",
       "    </tr>\n",
       "    <tr>\n",
       "      <th>414</th>\n",
       "      <td>1306</td>\n",
       "      <td>1</td>\n",
       "      <td>0</td>\n",
       "      <td>39.0</td>\n",
       "      <td>0</td>\n",
       "      <td>0</td>\n",
       "    </tr>\n",
       "    <tr>\n",
       "      <th>415</th>\n",
       "      <td>1307</td>\n",
       "      <td>3</td>\n",
       "      <td>1</td>\n",
       "      <td>38.5</td>\n",
       "      <td>0</td>\n",
       "      <td>0</td>\n",
       "    </tr>\n",
       "    <tr>\n",
       "      <th>416</th>\n",
       "      <td>1308</td>\n",
       "      <td>3</td>\n",
       "      <td>1</td>\n",
       "      <td>NaN</td>\n",
       "      <td>0</td>\n",
       "      <td>0</td>\n",
       "    </tr>\n",
       "    <tr>\n",
       "      <th>417</th>\n",
       "      <td>1309</td>\n",
       "      <td>3</td>\n",
       "      <td>1</td>\n",
       "      <td>NaN</td>\n",
       "      <td>1</td>\n",
       "      <td>1</td>\n",
       "    </tr>\n",
       "  </tbody>\n",
       "</table>\n",
       "<p>418 rows × 6 columns</p>\n",
       "</div>"
      ],
      "text/plain": [
       "     PassengerId  Pclass  Sex   Age  SibSp  Parch\n",
       "0            892       3    1  34.5      0      0\n",
       "1            893       3    0  47.0      1      0\n",
       "2            894       2    1  62.0      0      0\n",
       "3            895       3    1  27.0      0      0\n",
       "4            896       3    0  22.0      1      1\n",
       "..           ...     ...  ...   ...    ...    ...\n",
       "413         1305       3    1   NaN      0      0\n",
       "414         1306       1    0  39.0      0      0\n",
       "415         1307       3    1  38.5      0      0\n",
       "416         1308       3    1   NaN      0      0\n",
       "417         1309       3    1   NaN      1      1\n",
       "\n",
       "[418 rows x 6 columns]"
      ]
     },
     "execution_count": 6,
     "metadata": {},
     "output_type": "execute_result"
    }
   ],
   "source": [
    "test['Sex'] = test['Sex'].map({'male': 1, 'female': 0})\n",
    "test"
   ]
  },
  {
   "cell_type": "code",
   "execution_count": 7,
   "id": "c986dddf",
   "metadata": {
    "execution": {
     "iopub.execute_input": "2024-05-31T16:14:26.439633Z",
     "iopub.status.busy": "2024-05-31T16:14:26.439213Z",
     "iopub.status.idle": "2024-05-31T16:14:26.447678Z",
     "shell.execute_reply": "2024-05-31T16:14:26.446267Z"
    },
    "papermill": {
     "duration": 0.02473,
     "end_time": "2024-05-31T16:14:26.450207",
     "exception": false,
     "start_time": "2024-05-31T16:14:26.425477",
     "status": "completed"
    },
    "tags": []
   },
   "outputs": [
    {
     "data": {
      "text/plain": [
       "Index(['PassengerId', 'Survived', 'Pclass', 'Sex', 'Age', 'SibSp', 'Parch'], dtype='object')"
      ]
     },
     "execution_count": 7,
     "metadata": {},
     "output_type": "execute_result"
    }
   ],
   "source": [
    "train.columns"
   ]
  },
  {
   "cell_type": "code",
   "execution_count": 8,
   "id": "4c4793b8",
   "metadata": {
    "execution": {
     "iopub.execute_input": "2024-05-31T16:14:26.475519Z",
     "iopub.status.busy": "2024-05-31T16:14:26.475059Z",
     "iopub.status.idle": "2024-05-31T16:14:26.482212Z",
     "shell.execute_reply": "2024-05-31T16:14:26.480703Z"
    },
    "papermill": {
     "duration": 0.022572,
     "end_time": "2024-05-31T16:14:26.485002",
     "exception": false,
     "start_time": "2024-05-31T16:14:26.462430",
     "status": "completed"
    },
    "tags": []
   },
   "outputs": [
    {
     "name": "stdout",
     "output_type": "stream",
     "text": [
      "متوسط العمر: 29.69911764705882\n"
     ]
    }
   ],
   "source": [
    "# حساب متوسط العمر مع استبعاد القيم الناقصة\n",
    "mean_age=train['Age'].mean()\n",
    "print(f'متوسط العمر: {mean_age}')\n"
   ]
  },
  {
   "cell_type": "code",
   "execution_count": 9,
   "id": "9ee3d0c1",
   "metadata": {
    "execution": {
     "iopub.execute_input": "2024-05-31T16:14:26.509897Z",
     "iopub.status.busy": "2024-05-31T16:14:26.509484Z",
     "iopub.status.idle": "2024-05-31T16:14:26.517495Z",
     "shell.execute_reply": "2024-05-31T16:14:26.516158Z"
    },
    "papermill": {
     "duration": 0.023852,
     "end_time": "2024-05-31T16:14:26.520634",
     "exception": false,
     "start_time": "2024-05-31T16:14:26.496782",
     "status": "completed"
    },
    "tags": []
   },
   "outputs": [
    {
     "name": "stdout",
     "output_type": "stream",
     "text": [
      "0\n"
     ]
    },
    {
     "name": "stderr",
     "output_type": "stream",
     "text": [
      "/tmp/ipykernel_18/3883436323.py:2: SettingWithCopyWarning: \n",
      "A value is trying to be set on a copy of a slice from a DataFrame.\n",
      "Try using .loc[row_indexer,col_indexer] = value instead\n",
      "\n",
      "See the caveats in the documentation: https://pandas.pydata.org/pandas-docs/stable/user_guide/indexing.html#returning-a-view-versus-a-copy\n",
      "  train['Age'] = train['Age'].fillna(mean_age)\n"
     ]
    }
   ],
   "source": [
    "# ملء القيم الناقصة في عمود العمر بالقيمة المتوسطة\n",
    "train['Age'] = train['Age'].fillna(mean_age)\n",
    "\n",
    "# التأكد من عدم وجود قيم ناقصة\n",
    "print(train['Age'].isnull().sum())\n"
   ]
  },
  {
   "cell_type": "code",
   "execution_count": 10,
   "id": "2ac0a1c0",
   "metadata": {
    "execution": {
     "iopub.execute_input": "2024-05-31T16:14:26.545028Z",
     "iopub.status.busy": "2024-05-31T16:14:26.544615Z",
     "iopub.status.idle": "2024-05-31T16:14:26.552045Z",
     "shell.execute_reply": "2024-05-31T16:14:26.550621Z"
    },
    "papermill": {
     "duration": 0.024309,
     "end_time": "2024-05-31T16:14:26.556444",
     "exception": false,
     "start_time": "2024-05-31T16:14:26.532135",
     "status": "completed"
    },
    "tags": []
   },
   "outputs": [
    {
     "name": "stdout",
     "output_type": "stream",
     "text": [
      "متوسط العمر بعد ملء القيم الناقصة: 29.69911764705882\n"
     ]
    }
   ],
   "source": [
    "mean_age_after_filling = train['Age'].mean()\n",
    "print(f'متوسط العمر بعد ملء القيم الناقصة: {mean_age_after_filling}')"
   ]
  },
  {
   "cell_type": "code",
   "execution_count": 11,
   "id": "62285851",
   "metadata": {
    "execution": {
     "iopub.execute_input": "2024-05-31T16:14:26.589099Z",
     "iopub.status.busy": "2024-05-31T16:14:26.588055Z",
     "iopub.status.idle": "2024-05-31T16:14:26.601487Z",
     "shell.execute_reply": "2024-05-31T16:14:26.599744Z"
    },
    "papermill": {
     "duration": 0.033448,
     "end_time": "2024-05-31T16:14:26.605480",
     "exception": false,
     "start_time": "2024-05-31T16:14:26.572032",
     "status": "completed"
    },
    "tags": []
   },
   "outputs": [
    {
     "data": {
      "text/plain": [
       "PassengerId     0\n",
       "Pclass          0\n",
       "Sex             0\n",
       "Age            86\n",
       "SibSp           0\n",
       "Parch           0\n",
       "dtype: int64"
      ]
     },
     "execution_count": 11,
     "metadata": {},
     "output_type": "execute_result"
    }
   ],
   "source": [
    "test.isnull().sum()\n"
   ]
  },
  {
   "cell_type": "code",
   "execution_count": 12,
   "id": "8b60b457",
   "metadata": {
    "execution": {
     "iopub.execute_input": "2024-05-31T16:14:26.636285Z",
     "iopub.status.busy": "2024-05-31T16:14:26.635857Z",
     "iopub.status.idle": "2024-05-31T16:14:26.643591Z",
     "shell.execute_reply": "2024-05-31T16:14:26.642084Z"
    },
    "papermill": {
     "duration": 0.027435,
     "end_time": "2024-05-31T16:14:26.646432",
     "exception": false,
     "start_time": "2024-05-31T16:14:26.618997",
     "status": "completed"
    },
    "tags": []
   },
   "outputs": [
    {
     "name": "stdout",
     "output_type": "stream",
     "text": [
      "متوسط العمر: 30.272590361445783\n"
     ]
    }
   ],
   "source": [
    "# حساب متوسط العمر مع استبعاد القيم الناقصة\n",
    "mean_age=test['Age'].mean()\n",
    "print(f'متوسط العمر: {mean_age}')"
   ]
  },
  {
   "cell_type": "code",
   "execution_count": 13,
   "id": "99fcf0ff",
   "metadata": {
    "execution": {
     "iopub.execute_input": "2024-05-31T16:14:26.673471Z",
     "iopub.status.busy": "2024-05-31T16:14:26.673054Z",
     "iopub.status.idle": "2024-05-31T16:14:26.680256Z",
     "shell.execute_reply": "2024-05-31T16:14:26.679042Z"
    },
    "papermill": {
     "duration": 0.027082,
     "end_time": "2024-05-31T16:14:26.685108",
     "exception": false,
     "start_time": "2024-05-31T16:14:26.658026",
     "status": "completed"
    },
    "tags": []
   },
   "outputs": [
    {
     "name": "stdout",
     "output_type": "stream",
     "text": [
      "0\n"
     ]
    },
    {
     "name": "stderr",
     "output_type": "stream",
     "text": [
      "/tmp/ipykernel_18/2034292607.py:2: SettingWithCopyWarning: \n",
      "A value is trying to be set on a copy of a slice from a DataFrame.\n",
      "Try using .loc[row_indexer,col_indexer] = value instead\n",
      "\n",
      "See the caveats in the documentation: https://pandas.pydata.org/pandas-docs/stable/user_guide/indexing.html#returning-a-view-versus-a-copy\n",
      "  test['Age'] = test['Age'].fillna(mean_age)\n"
     ]
    }
   ],
   "source": [
    "# ملء القيم الناقصة في عمود العمر بالقيمة المتوسطة\n",
    "test['Age'] = test['Age'].fillna(mean_age)\n",
    "\n",
    "# التأكد من عدم وجود قيم ناقصة\n",
    "print(test['Age'].isnull().sum())"
   ]
  },
  {
   "cell_type": "code",
   "execution_count": 14,
   "id": "ae255948",
   "metadata": {
    "execution": {
     "iopub.execute_input": "2024-05-31T16:14:26.715771Z",
     "iopub.status.busy": "2024-05-31T16:14:26.714245Z",
     "iopub.status.idle": "2024-05-31T16:14:26.723472Z",
     "shell.execute_reply": "2024-05-31T16:14:26.721925Z"
    },
    "papermill": {
     "duration": 0.028779,
     "end_time": "2024-05-31T16:14:26.727226",
     "exception": false,
     "start_time": "2024-05-31T16:14:26.698447",
     "status": "completed"
    },
    "tags": []
   },
   "outputs": [
    {
     "name": "stdout",
     "output_type": "stream",
     "text": [
      "متوسط العمر بعد ملء القيم الناقصة: 29.69911764705882\n"
     ]
    }
   ],
   "source": [
    "mean_age_after_filling = train['Age'].mean()\n",
    "print(f'متوسط العمر بعد ملء القيم الناقصة: {mean_age_after_filling}')"
   ]
  },
  {
   "cell_type": "code",
   "execution_count": 15,
   "id": "20c596bd",
   "metadata": {
    "execution": {
     "iopub.execute_input": "2024-05-31T16:14:26.761563Z",
     "iopub.status.busy": "2024-05-31T16:14:26.761142Z",
     "iopub.status.idle": "2024-05-31T16:14:26.771454Z",
     "shell.execute_reply": "2024-05-31T16:14:26.770238Z"
    },
    "papermill": {
     "duration": 0.030982,
     "end_time": "2024-05-31T16:14:26.775295",
     "exception": false,
     "start_time": "2024-05-31T16:14:26.744313",
     "status": "completed"
    },
    "tags": []
   },
   "outputs": [
    {
     "data": {
      "text/plain": [
       "PassengerId    0\n",
       "Pclass         0\n",
       "Sex            0\n",
       "Age            0\n",
       "SibSp          0\n",
       "Parch          0\n",
       "dtype: int64"
      ]
     },
     "execution_count": 15,
     "metadata": {},
     "output_type": "execute_result"
    }
   ],
   "source": [
    "test.isnull().sum()\n"
   ]
  },
  {
   "cell_type": "code",
   "execution_count": 16,
   "id": "d2574be0",
   "metadata": {
    "execution": {
     "iopub.execute_input": "2024-05-31T16:14:26.813860Z",
     "iopub.status.busy": "2024-05-31T16:14:26.813274Z",
     "iopub.status.idle": "2024-05-31T16:14:26.826019Z",
     "shell.execute_reply": "2024-05-31T16:14:26.824447Z"
    },
    "papermill": {
     "duration": 0.035575,
     "end_time": "2024-05-31T16:14:26.830260",
     "exception": false,
     "start_time": "2024-05-31T16:14:26.794685",
     "status": "completed"
    },
    "tags": []
   },
   "outputs": [
    {
     "data": {
      "text/plain": [
       "PassengerId    0\n",
       "Survived       0\n",
       "Pclass         0\n",
       "Sex            0\n",
       "Age            0\n",
       "SibSp          0\n",
       "Parch          0\n",
       "dtype: int64"
      ]
     },
     "execution_count": 16,
     "metadata": {},
     "output_type": "execute_result"
    }
   ],
   "source": [
    "train.isnull().sum()"
   ]
  },
  {
   "cell_type": "code",
   "execution_count": 17,
   "id": "007dd298",
   "metadata": {
    "execution": {
     "iopub.execute_input": "2024-05-31T16:14:26.867979Z",
     "iopub.status.busy": "2024-05-31T16:14:26.867105Z",
     "iopub.status.idle": "2024-05-31T16:14:26.889570Z",
     "shell.execute_reply": "2024-05-31T16:14:26.888124Z"
    },
    "papermill": {
     "duration": 0.044831,
     "end_time": "2024-05-31T16:14:26.892208",
     "exception": false,
     "start_time": "2024-05-31T16:14:26.847377",
     "status": "completed"
    },
    "tags": []
   },
   "outputs": [
    {
     "data": {
      "text/plain": [
       "Survived\n",
       "0    549\n",
       "1    342\n",
       "Name: count, dtype: int64"
      ]
     },
     "execution_count": 17,
     "metadata": {},
     "output_type": "execute_result"
    }
   ],
   "source": [
    "train['Survived'].value_counts()"
   ]
  },
  {
   "cell_type": "code",
   "execution_count": 18,
   "id": "1fc34084",
   "metadata": {
    "execution": {
     "iopub.execute_input": "2024-05-31T16:14:26.922273Z",
     "iopub.status.busy": "2024-05-31T16:14:26.921399Z",
     "iopub.status.idle": "2024-05-31T16:14:27.483220Z",
     "shell.execute_reply": "2024-05-31T16:14:27.481112Z"
    },
    "papermill": {
     "duration": 0.579906,
     "end_time": "2024-05-31T16:14:27.486399",
     "exception": false,
     "start_time": "2024-05-31T16:14:26.906493",
     "status": "completed"
    },
    "tags": []
   },
   "outputs": [
    {
     "data": {
      "text/plain": [
       "array([[<Axes: title={'center': 'Age'}>]], dtype=object)"
      ]
     },
     "execution_count": 18,
     "metadata": {},
     "output_type": "execute_result"
    },
    {
     "data": {
      "image/png": "[encoded data removed]",
      "text/plain": [
       "<Figure size 640x480 with 1 Axes>"
      ]
     },
     "metadata": {},
     "output_type": "display_data"
    }
   ],
   "source": [
    "train.hist(column='Age', bins=50)"
   ]
  },
  {
   "cell_type": "code",
   "execution_count": 19,
   "id": "5e51d077",
   "metadata": {
    "execution": {
     "iopub.execute_input": "2024-05-31T16:14:27.518870Z",
     "iopub.status.busy": "2024-05-31T16:14:27.518383Z",
     "iopub.status.idle": "2024-05-31T16:14:27.533132Z",
     "shell.execute_reply": "2024-05-31T16:14:27.531694Z"
    },
    "papermill": {
     "duration": 0.035168,
     "end_time": "2024-05-31T16:14:27.535977",
     "exception": false,
     "start_time": "2024-05-31T16:14:27.500809",
     "status": "completed"
    },
    "tags": []
   },
   "outputs": [
    {
     "data": {
      "text/plain": [
       "array([[ 1.,  3.,  1., 22.,  1.,  0.],\n",
       "       [ 2.,  1.,  0., 38.,  1.,  0.],\n",
       "       [ 3.,  3.,  0., 26.,  0.,  0.],\n",
       "       [ 4.,  1.,  0., 35.,  1.,  0.],\n",
       "       [ 5.,  3.,  1., 35.,  0.,  0.]])"
      ]
     },
     "execution_count": 19,
     "metadata": {},
     "output_type": "execute_result"
    }
   ],
   "source": [
    "X = train[['PassengerId', 'Pclass', 'Sex', 'Age','SibSp','Parch']] .values\n",
    "X[0:5]"
   ]
  },
  {
   "cell_type": "code",
   "execution_count": 20,
   "id": "6ecd878c",
   "metadata": {
    "execution": {
     "iopub.execute_input": "2024-05-31T16:14:27.566137Z",
     "iopub.status.busy": "2024-05-31T16:14:27.565718Z",
     "iopub.status.idle": "2024-05-31T16:14:27.574872Z",
     "shell.execute_reply": "2024-05-31T16:14:27.573350Z"
    },
    "papermill": {
     "duration": 0.027413,
     "end_time": "2024-05-31T16:14:27.577512",
     "exception": false,
     "start_time": "2024-05-31T16:14:27.550099",
     "status": "completed"
    },
    "tags": []
   },
   "outputs": [
    {
     "data": {
      "text/plain": [
       "array([0, 1, 1, 1, 0])"
      ]
     },
     "execution_count": 20,
     "metadata": {},
     "output_type": "execute_result"
    }
   ],
   "source": [
    "y = train['Survived'].values\n",
    "y[0:5]"
   ]
  },
  {
   "cell_type": "code",
   "execution_count": 21,
   "id": "49724fd1",
   "metadata": {
    "execution": {
     "iopub.execute_input": "2024-05-31T16:14:27.609044Z",
     "iopub.status.busy": "2024-05-31T16:14:27.608634Z",
     "iopub.status.idle": "2024-05-31T16:14:27.840532Z",
     "shell.execute_reply": "2024-05-31T16:14:27.839128Z"
    },
    "papermill": {
     "duration": 0.25154,
     "end_time": "2024-05-31T16:14:27.843755",
     "exception": false,
     "start_time": "2024-05-31T16:14:27.592215",
     "status": "completed"
    },
    "tags": []
   },
   "outputs": [],
   "source": [
    "from sklearn.model_selection import train_test_split\n",
    "\n",
    "X_train, X_val, y_train, y_val = train_test_split(X, y, test_size=0.2, random_state=42)\n"
   ]
  },
  {
   "cell_type": "code",
   "execution_count": 22,
   "id": "7e9f1dfb",
   "metadata": {
    "execution": {
     "iopub.execute_input": "2024-05-31T16:14:27.872658Z",
     "iopub.status.busy": "2024-05-31T16:14:27.872201Z",
     "iopub.status.idle": "2024-05-31T16:14:28.046090Z",
     "shell.execute_reply": "2024-05-31T16:14:28.044178Z"
    },
    "papermill": {
     "duration": 0.19153,
     "end_time": "2024-05-31T16:14:28.049018",
     "exception": false,
     "start_time": "2024-05-31T16:14:27.857488",
     "status": "completed"
    },
    "tags": []
   },
   "outputs": [
    {
     "name": "stdout",
     "output_type": "stream",
     "text": [
      "Validation Accuracy: 0.8100558659217877\n"
     ]
    }
   ],
   "source": [
    "from sklearn.linear_model import LogisticRegression\n",
    "from sklearn.metrics import accuracy_score\n",
    "\n",
    "model = LogisticRegression(max_iter=200)\n",
    "model.fit(X_train, y_train)\n",
    "\n",
    "# Predict and evaluate\n",
    "y_pred = model.predict(X_val)\n",
    "print(f'Validation Accuracy: {accuracy_score(y_val, y_pred)}')\n"
   ]
  },
  {
   "cell_type": "code",
   "execution_count": 23,
   "id": "6735e935",
   "metadata": {
    "execution": {
     "iopub.execute_input": "2024-05-31T16:14:28.078276Z",
     "iopub.status.busy": "2024-05-31T16:14:28.077850Z",
     "iopub.status.idle": "2024-05-31T16:14:28.100843Z",
     "shell.execute_reply": "2024-05-31T16:14:28.099339Z"
    },
    "papermill": {
     "duration": 0.040904,
     "end_time": "2024-05-31T16:14:28.103633",
     "exception": false,
     "start_time": "2024-05-31T16:14:28.062729",
     "status": "completed"
    },
    "tags": []
   },
   "outputs": [
    {
     "name": "stdout",
     "output_type": "stream",
     "text": [
      "              precision    recall  f1-score   support\n",
      "\n",
      "           0       0.82      0.87      0.84       105\n",
      "           1       0.79      0.73      0.76        74\n",
      "\n",
      "    accuracy                           0.81       179\n",
      "   macro avg       0.81      0.80      0.80       179\n",
      "weighted avg       0.81      0.81      0.81       179\n",
      "\n",
      "ROC-AUC Score: 0.7981981981981983\n"
     ]
    }
   ],
   "source": [
    "from sklearn.metrics import classification_report, roc_auc_score\n",
    "\n",
    "print(classification_report(y_val, y_pred))\n",
    "print(f'ROC-AUC Score: {roc_auc_score(y_val, y_pred)}')\n",
    "\n"
   ]
  },
  {
   "cell_type": "code",
   "execution_count": 24,
   "id": "16b561f2",
   "metadata": {
    "execution": {
     "iopub.execute_input": "2024-05-31T16:14:28.132885Z",
     "iopub.status.busy": "2024-05-31T16:14:28.132440Z",
     "iopub.status.idle": "2024-05-31T16:14:28.778791Z",
     "shell.execute_reply": "2024-05-31T16:14:28.776669Z"
    },
    "papermill": {
     "duration": 0.665073,
     "end_time": "2024-05-31T16:14:28.782194",
     "exception": false,
     "start_time": "2024-05-31T16:14:28.117121",
     "status": "completed"
    },
    "tags": []
   },
   "outputs": [
    {
     "name": "stderr",
     "output_type": "stream",
     "text": [
      "/opt/conda/lib/python3.10/site-packages/sklearn/linear_model/_logistic.py:458: ConvergenceWarning: lbfgs failed to converge (status=1):\n",
      "STOP: TOTAL NO. of ITERATIONS REACHED LIMIT.\n",
      "\n",
      "Increase the number of iterations (max_iter) or scale the data as shown in:\n",
      "    https://scikit-learn.org/stable/modules/preprocessing.html\n",
      "Please also refer to the documentation for alternative solver options:\n",
      "    https://scikit-learn.org/stable/modules/linear_model.html#logistic-regression\n",
      "  n_iter_i = _check_optimize_result(\n"
     ]
    },
    {
     "name": "stdout",
     "output_type": "stream",
     "text": [
      "Best Parameters: {'C': 1}\n"
     ]
    }
   ],
   "source": [
    "from sklearn.model_selection import GridSearchCV\n",
    "\n",
    "param_grid = {'C': [0.1, 1, 10, 100]}\n",
    "grid = GridSearchCV(LogisticRegression(max_iter=200), param_grid, cv=5, scoring='accuracy')\n",
    "grid.fit(X_train, y_train)\n",
    "print(f'Best Parameters: {grid.best_params_}')\n",
    "\n"
   ]
  },
  {
   "cell_type": "code",
   "execution_count": 25,
   "id": "73411e5b",
   "metadata": {
    "execution": {
     "iopub.execute_input": "2024-05-31T16:14:28.811918Z",
     "iopub.status.busy": "2024-05-31T16:14:28.811507Z",
     "iopub.status.idle": "2024-05-31T16:14:28.818774Z",
     "shell.execute_reply": "2024-05-31T16:14:28.817515Z"
    },
    "papermill": {
     "duration": 0.025953,
     "end_time": "2024-05-31T16:14:28.821753",
     "exception": false,
     "start_time": "2024-05-31T16:14:28.795800",
     "status": "completed"
    },
    "tags": []
   },
   "outputs": [],
   "source": [
    "features = ['PassengerId', 'Pclass', 'Sex', 'Age','SibSp','Parch']\n",
    "X_test = test[features]\n"
   ]
  },
  {
   "cell_type": "code",
   "execution_count": 26,
   "id": "c5ecba0a",
   "metadata": {
    "execution": {
     "iopub.execute_input": "2024-05-31T16:14:28.852915Z",
     "iopub.status.busy": "2024-05-31T16:14:28.852506Z",
     "iopub.status.idle": "2024-05-31T16:14:28.862892Z",
     "shell.execute_reply": "2024-05-31T16:14:28.861265Z"
    },
    "papermill": {
     "duration": 0.030851,
     "end_time": "2024-05-31T16:14:28.866805",
     "exception": false,
     "start_time": "2024-05-31T16:14:28.835954",
     "status": "completed"
    },
    "tags": []
   },
   "outputs": [
    {
     "data": {
      "text/plain": [
       "PassengerId    0\n",
       "Pclass         0\n",
       "Sex            0\n",
       "Age            0\n",
       "SibSp          0\n",
       "Parch          0\n",
       "dtype: int64"
      ]
     },
     "execution_count": 26,
     "metadata": {},
     "output_type": "execute_result"
    }
   ],
   "source": [
    "X_test.isnull().sum()"
   ]
  },
  {
   "cell_type": "code",
   "execution_count": 27,
   "id": "9c67446e",
   "metadata": {
    "execution": {
     "iopub.execute_input": "2024-05-31T16:14:28.896985Z",
     "iopub.status.busy": "2024-05-31T16:14:28.896553Z",
     "iopub.status.idle": "2024-05-31T16:14:28.913723Z",
     "shell.execute_reply": "2024-05-31T16:14:28.911861Z"
    },
    "papermill": {
     "duration": 0.035493,
     "end_time": "2024-05-31T16:14:28.916897",
     "exception": false,
     "start_time": "2024-05-31T16:14:28.881404",
     "status": "completed"
    },
    "tags": []
   },
   "outputs": [
    {
     "name": "stdout",
     "output_type": "stream",
     "text": [
      "Your submission was successfully saved!\n"
     ]
    },
    {
     "name": "stderr",
     "output_type": "stream",
     "text": [
      "/opt/conda/lib/python3.10/site-packages/sklearn/base.py:432: UserWarning: X has feature names, but LogisticRegression was fitted without feature names\n",
      "  warnings.warn(\n"
     ]
    }
   ],
   "source": [
    "test_predictions = model.predict(X_test)\n",
    "\n",
    "submission = pd.DataFrame({'PassengerId': test['PassengerId'], 'Survived': test_predictions})\n",
    "\n",
    "csv_file_path = 'submission.csv'\n",
    "submission.to_csv(csv_file_path, index=False)\n",
    "print(\"Your submission was successfully saved!\")\n"
   ]
  }
 ],
 "metadata": {
  "kaggle": {
   "accelerator": "none",
   "dataSources": [
    {
     "databundleVersionId": 26502,
     "sourceId": 3136,
     "sourceType": "competition"
    }
   ],
   "dockerImageVersionId": 30698,
   "isGpuEnabled": false,
   "isInternetEnabled": true,
   "language": "python",
   "sourceType": "notebook"
  },
  "kernelspec": {
   "display_name": "Python 3",
   "language": "python",
   "name": "python3"
  },
  "language_info": {
   "codemirror_mode": {
    "name": "ipython",
    "version": 3
   },
   "file_extension": ".py",
   "mimetype": "text/x-python",
   "name": "python",
   "nbconvert_exporter": "python",
   "pygments_lexer": "ipython3",
   "version": "3.10.13"
  },
  "papermill": {
   "default_parameters": {},
   "duration": 9.836041,
   "end_time": "2024-05-31T16:14:29.653384",
   "environment_variables": {},
   "exception": null,
   "input_path": "__notebook__.ipynb",
   "output_path": "__notebook__.ipynb",
   "parameters": {},
   "start_time": "2024-05-31T16:14:19.817343",
   "version": "2.5.0"
  }
 },
 "nbformat": 4,
 "nbformat_minor": 5
}
